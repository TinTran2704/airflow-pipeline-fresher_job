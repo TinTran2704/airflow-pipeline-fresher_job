{
 "cells": [
  {
   "cell_type": "code",
   "execution_count": 1,
   "id": "90e536e7",
   "metadata": {},
   "outputs": [
    {
     "name": "stderr",
     "output_type": "stream",
     "text": [
      "WARNING:root:OSError while attempting to symlink the latest log directory\n"
     ]
    },
    {
     "data": {
      "text/html": [
       "<pre style=\"white-space:pre;overflow-x:auto;line-height:normal;font-family:Menlo,'DejaVu Sans Mono',consolas,'Courier New',monospace\"><span style=\"color: #808000; text-decoration-color: #808000; font-weight: bold\">C:\\Users\\ADMIN\\anaconda3\\lib\\site-packages\\airflow\\models\\base.py:</span><span style=\"color: #808000; text-decoration-color: #808000; font-weight: bold\">49</span><span style=\"color: #808000; text-decoration-color: #808000; font-weight: bold\"> MovedIn20Warning</span><span style=\"color: #808000; text-decoration-color: #808000\">: Deprecated API features detected! These </span><span style=\"color: #808000; text-decoration-color: #808000; font-weight: bold\">feature(</span><span style=\"color: #808000; text-decoration-color: #808000\">s</span><span style=\"color: #808000; text-decoration-color: #808000; font-weight: bold\">)</span><span style=\"color: #808000; text-decoration-color: #808000\"> are not compatible with SQLAlchemy </span><span style=\"color: #808000; text-decoration-color: #808000; font-weight: bold\">2.0</span><span style=\"color: #808000; text-decoration-color: #808000\">. To prevent incompatible upgrades prior to updating applications, ensure requirements files are pinned to </span><span style=\"color: #808000; text-decoration-color: #808000\">\"sqlalchemy&lt;2.0\"</span><span style=\"color: #808000; text-decoration-color: #808000\">. Set environment variable </span><span style=\"color: #808000; text-decoration-color: #808000\">SQLALCHEMY_WARN_20</span><span style=\"color: #808000; text-decoration-color: #808000\">=</span><span style=\"color: #808000; text-decoration-color: #808000; font-weight: bold\">1</span><span style=\"color: #808000; text-decoration-color: #808000\"> to show all deprecation warnings.  Set environment variable </span><span style=\"color: #808000; text-decoration-color: #808000\">SQLALCHEMY_SILENCE_UBER_WARNING</span><span style=\"color: #808000; text-decoration-color: #808000\">=</span><span style=\"color: #808000; text-decoration-color: #808000; font-weight: bold\">1</span><span style=\"color: #808000; text-decoration-color: #808000\"> to silence this message. </span><span style=\"color: #808000; text-decoration-color: #808000; font-weight: bold\">(</span><span style=\"color: #808000; text-decoration-color: #808000\">Background on SQLAlchemy </span><span style=\"color: #808000; text-decoration-color: #808000; font-weight: bold\">2.0</span><span style=\"color: #808000; text-decoration-color: #808000\"> at: </span><span style=\"color: #808000; text-decoration-color: #808000; text-decoration: underline\">https://sqlalche.me/e/b8d9)</span>\n",
       "</pre>\n"
      ],
      "text/plain": [
       "\u001b[1;33mC:\\Users\\ADMIN\\anaconda3\\lib\\site-packages\\airflow\\models\\base.py:\u001b[0m\u001b[1;33m49\u001b[0m\u001b[1;33m MovedIn20Warning\u001b[0m\u001b[33m: Deprecated API features detected! These \u001b[0m\u001b[1;33mfeature\u001b[0m\u001b[1;33m(\u001b[0m\u001b[33ms\u001b[0m\u001b[1;33m)\u001b[0m\u001b[33m are not compatible with SQLAlchemy \u001b[0m\u001b[1;33m2.0\u001b[0m\u001b[33m. To prevent incompatible upgrades prior to updating applications, ensure requirements files are pinned to \u001b[0m\u001b[33m\"sqlalchemy<2.0\"\u001b[0m\u001b[33m. Set environment variable \u001b[0m\u001b[33mSQLALCHEMY_WARN_20\u001b[0m\u001b[33m=\u001b[0m\u001b[1;33m1\u001b[0m\u001b[33m to show all deprecation warnings.  Set environment variable \u001b[0m\u001b[33mSQLALCHEMY_SILENCE_UBER_WARNING\u001b[0m\u001b[33m=\u001b[0m\u001b[1;33m1\u001b[0m\u001b[33m to silence this message. \u001b[0m\u001b[1;33m(\u001b[0m\u001b[33mBackground on SQLAlchemy \u001b[0m\u001b[1;33m2.0\u001b[0m\u001b[33m at: \u001b[0m\u001b[4;33mhttps://sqlalche.me/e/b8d9\u001b[0m\u001b[4;33m)\u001b[0m\n"
      ]
     },
     "metadata": {},
     "output_type": "display_data"
    }
   ],
   "source": [
    "import requests\n",
    "from bs4 import BeautifulSoup\n",
    "import time\n",
    "import sys\n",
    "import pandas as pd \n",
    "from pandas import DataFrame\n",
    "from requests.utils import parse_header_links\n",
    "from selenium import webdriver\n",
    "from selenium.webdriver.common.keys import Keys\n",
    "from datetime import datetime, timedelta\n",
    "import csv\n",
    "from airflow import DAG\n",
    "from airflow.operators.python import PythonOperator\n",
    "\n",
    "from datetime import date"
   ]
  },
  {
   "cell_type": "code",
   "execution_count": 9,
   "id": "1d688610",
   "metadata": {},
   "outputs": [],
   "source": [
    "def extract():\n",
    "    browser = webdriver.Chrome() # Mở 1 trình duyệt Chrome\n",
    "    url = \"https://careerbuilder.vn/viec-lam-tuong-tu/HCM-Fresher-Data-Scientist-tai-ho-chi-minh-kl8-vi.html\"\n",
    "    browser.get(url)\n",
    "    time.sleep(3)\n",
    "    html_source = browser.page_source  #lấy source của page bằng selenium\n",
    "    soup = BeautifulSoup(html_source, 'html.parser')   #Tạo ra 1 beautyful soup object\n",
    "    t = soup.find_all('a', {\"class\" : \"job_link\"})\n",
    "    Name = []\n",
    "    Salary = []\n",
    "    Update_date = []\n",
    "    Expired_date = []\n",
    "    Experience = []\n",
    "    Company = []\n",
    "    if len(t) > 20:\n",
    "        t = t[:20]\n",
    "    for item in t:\n",
    "        link = item.get('href')\n",
    "        browser.get(link)\n",
    "        time.sleep(3)\n",
    "        html_source = browser.page_source  #lấy source của page bằng selenium\n",
    "        soup = BeautifulSoup(html_source, 'html.parser')   #Tạo ra 1 beautyful soup object\n",
    "        name = soup.find('h1', {\"class\" : \"title\"}).text\n",
    "        company = soup.find('a', {\"class\" : \"employer job-company-name\"}).text\n",
    "        Infor = soup.find_all('div', {\"class\" : \"detail-box has-background\"})\n",
    "        for i in range(len(Infor)):\n",
    "            Infor[i] = Infor[i].text\n",
    "            Infor[i] = Infor[i].strip()\n",
    "            Infor[i] = Infor[i].replace(\"\\n\",\"\\t\")\n",
    "            Infor[i] = Infor[i].split(\"\\t\")\n",
    "        for i in range(len(Infor)):\n",
    "            for j in range(len(Infor[i])):\n",
    "                Infor[i][j] = Infor[i][j].strip()\n",
    "        new_info = []\n",
    "        for i in range(len(Infor)):\n",
    "            res = [ele for ele in Infor[i] if ele != '']\n",
    "            new_info.append(res)\n",
    "        Salary.append(new_sal[1][1])\n",
    "        Update_date.append(new_sal[0][1])\n",
    "        Expired_date.append(new_sal[1][-1])\n",
    "        Experience.append(new_sal[1][3])\n",
    "        Name.append(name)\n",
    "        Company.append(company)\n",
    "    Job_dataframe = pd.DataFrame({'Company' : Company, 'Name' : Name, 'Update_date' : Update_date,\n",
    "                                 'Expired_date' : Expired_date, 'Experience' : Experience,'Salary' : Salary})\n",
    "    tracks_dataframe.to_csv('Fresher_job.csv', index=False, header=True)  #Tạo file.csv mới với dataframe như trên\n",
    "    return True"
   ]
  },
  {
   "cell_type": "code",
   "execution_count": 10,
   "id": "1cb777d8",
   "metadata": {},
   "outputs": [],
   "source": [
    "def Format_day(df, list_date):\n",
    "    format_ = '%d/%m/%Y'\n",
    "    n = len(df[list_date[0]])\n",
    "    for item in list_date:\n",
    "        for i in range(n):\n",
    "            df[item][i] = datetime.datetime.strptime(track_df[item][i],format_)\n",
    "    return df"
   ]
  },
  {
   "cell_type": "code",
   "execution_count": 11,
   "id": "9e062879",
   "metadata": {},
   "outputs": [],
   "source": [
    "def transform():\n",
    "    in_csv_file_path = 'Fresher_job.csv'\n",
    "    out_csv_file_path = 'Available_job.csv'\n",
    "\n",
    "    df = pd.read_csv(in_csv_file_path)\n",
    "    list_date = ['Expired_date', 'Update_date']\n",
    "\n",
    "    df = Format_day(df,list_date)\n",
    "    \n",
    "    today = date.today()\n",
    "    df = df[df.Expired_date <= today]\n",
    "    \n",
    "    df.to_csv(out_csv_file_path, index=False)\n",
    "    return True"
   ]
  },
  {
   "cell_type": "code",
   "execution_count": 12,
   "id": "4e79d76a",
   "metadata": {},
   "outputs": [],
   "source": [
    "def email():\n",
    "    port = 465  # For SSL\n",
    "    import email, smtplib, ssl\n",
    "\n",
    "    from email import encoders\n",
    "    from email.mime.base import MIMEBase\n",
    "    from email.mime.multipart import MIMEMultipart\n",
    "    from email.mime.text import MIMEText\n",
    "\n",
    "    subject = \"Auto Mail from Python\"\n",
    "    sender_email = \"tranbaotin2704@gmail.com\"\n",
    "    receiver_email = \"tranbaotin2704@gmail.com\"\n",
    "    password = \"**************\"\n",
    "\n",
    "    # Create a multipart message and set headers\n",
    "    message = MIMEMultipart()\n",
    "    message[\"From\"] = sender_email\n",
    "    message[\"To\"] = receiver_email\n",
    "    message[\"Subject\"] = subject\n",
    "    # Add body to email\n",
    "\n",
    "    filename = 'Available_job.csv'  # In same directory as script\n",
    "\n",
    "    # Open PDF file in binary mode\n",
    "    with open(filename, \"rb\") as attachment:\n",
    "        # Add file as application/octet-stream\n",
    "        # Email client can usually download this automatically as attachment\n",
    "        part = MIMEBase(\"application\", \"octet-stream\")\n",
    "        part.set_payload(attachment.read())\n",
    "\n",
    "    # Encode file in ASCII characters to send by email    \n",
    "    encoders.encode_base64(part)\n",
    "\n",
    "    # Add header as key/value pair to attachment part\n",
    "    part.add_header(\n",
    "        \"Content-Disposition\",\n",
    "        f\"attachment; filename= {filename}\",\n",
    "    )\n",
    "\n",
    "    # Add attachment to message and convert message to string\n",
    "    message.attach(part)\n",
    "    text = message.as_string()\n",
    "\n",
    "    # Log in to server using secure context and send email\n",
    "    context = ssl.create_default_context()\n",
    "    with smtplib.SMTP_SSL(\"smtp.gmail.com\", 465, context=context) as server:\n",
    "        server.login(sender_email, password)\n",
    "        server.sendmail(sender_email, receiver_email, text)"
   ]
  },
  {
   "cell_type": "code",
   "execution_count": 14,
   "id": "c8b0a411",
   "metadata": {},
   "outputs": [
    {
     "data": {
      "text/html": [
       "<pre style=\"white-space:pre;overflow-x:auto;line-height:normal;font-family:Menlo,'DejaVu Sans Mono',consolas,'Courier New',monospace\"><span style=\"color: #808000; text-decoration-color: #808000; font-weight: bold\">&lt;ipython-input-</span><span style=\"color: #808000; text-decoration-color: #808000; font-weight: bold\">14</span><span style=\"color: #808000; text-decoration-color: #808000; font-weight: bold\">-165e819067d9&gt;:</span><span style=\"color: #808000; text-decoration-color: #808000; font-weight: bold\">1</span><span style=\"color: #808000; text-decoration-color: #808000; font-weight: bold\"> RemovedInAirflow3Warning</span><span style=\"color: #808000; text-decoration-color: #808000\">: Param `schedule_interval` is deprecated and will be removed in a future release. Please use `schedule` instead.</span>\n",
       "</pre>\n"
      ],
      "text/plain": [
       "\u001b[1;33m<\u001b[0m\u001b[1;33mipython-input-\u001b[0m\u001b[1;33m14\u001b[0m\u001b[1;33m-165e819067d9\u001b[0m\u001b[1;33m>\u001b[0m\u001b[1;33m:\u001b[0m\u001b[1;33m1\u001b[0m\u001b[1;33m RemovedInAirflow3Warning\u001b[0m\u001b[33m: Param `schedule_interval` is deprecated and will be removed in a future release. Please use `schedule` instead.\u001b[0m\n"
      ]
     },
     "metadata": {},
     "output_type": "display_data"
    },
    {
     "data": {
      "text/plain": [
       "<Task(PythonOperator): email_to_me>"
      ]
     },
     "execution_count": 14,
     "metadata": {},
     "output_type": "execute_result"
    }
   ],
   "source": [
    "dag = DAG(\n",
    "    'TinTran_dag',\n",
    "    default_args={\n",
    "        'email': ['tranbaotin2704@gmail.com'],\n",
    "        'email_on_failure': True,\n",
    "        'retries': 1,\n",
    "        'retry_delay': timedelta(minutes=5),\n",
    "    },\n",
    "    description='First try on DAG',\n",
    "    schedule_interval=timedelta(days=2),\n",
    "    start_date=datetime(2023, 2, 8),\n",
    "    tags=['tintran'])\n",
    "\n",
    "\n",
    "extract_operator = PythonOperator(\n",
    "    task_id='load_from_careerbuilder',\n",
    "    python_callable=extract,\n",
    "    dag=dag\n",
    ")\n",
    "\n",
    "transform_operator = PythonOperator(\n",
    "    task_id='Filter_validate_row',\n",
    "    python_callable=transform,\n",
    "    dag=dag\n",
    ")\n",
    "\n",
    "email_operator = PythonOperator(\n",
    "    task_id='email_to_me',\n",
    "    python_callable=email,\n",
    "    dag=dag\n",
    ")\n",
    "\n",
    "extract_operator >> transform_operator >> email_operator"
   ]
  },
  {
   "cell_type": "code",
   "execution_count": null,
   "id": "470aa2e9",
   "metadata": {},
   "outputs": [],
   "source": []
  }
 ],
 "metadata": {
  "kernelspec": {
   "display_name": "Python 3",
   "language": "python",
   "name": "python3"
  },
  "language_info": {
   "codemirror_mode": {
    "name": "ipython",
    "version": 3
   },
   "file_extension": ".py",
   "mimetype": "text/x-python",
   "name": "python",
   "nbconvert_exporter": "python",
   "pygments_lexer": "ipython3",
   "version": "3.8.8"
  }
 },
 "nbformat": 4,
 "nbformat_minor": 5
}
